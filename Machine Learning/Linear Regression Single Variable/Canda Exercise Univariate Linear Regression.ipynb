{
 "cells": [
  {
   "cell_type": "markdown",
   "metadata": {},
   "source": [
    "### Exercise\n",
    "Predict canada's per capita income in year 2020. There is an exercise folder here on github at same level as this notebook, download that and you will find canada_per_capita_income.csv file. Using this build a regression model and predict the per capita income fo canadian citizens in year 2020"
   ]
  },
  {
   "cell_type": "code",
   "execution_count": 1,
   "metadata": {
    "ExecuteTime": {
     "end_time": "2022-02-12T17:36:56.123924Z",
     "start_time": "2022-02-12T17:36:53.641837Z"
    }
   },
   "outputs": [],
   "source": [
    "import pandas as pd \n",
    "import numpy as np \n",
    "from sklearn.linear_model  import LinearRegression\n",
    "import matplotlib.pyplot as plt\n",
    "import joblib"
   ]
  },
  {
   "cell_type": "markdown",
   "metadata": {},
   "source": [
    "#### Read csv file"
   ]
  },
  {
   "cell_type": "code",
   "execution_count": 2,
   "metadata": {
    "ExecuteTime": {
     "end_time": "2022-02-12T17:36:56.136917Z",
     "start_time": "2022-02-12T17:36:56.126921Z"
    }
   },
   "outputs": [],
   "source": [
    "df= pd.read_csv(\"canada_per_capita_income.csv\")\n"
   ]
  },
  {
   "cell_type": "code",
   "execution_count": 3,
   "metadata": {
    "ExecuteTime": {
     "end_time": "2022-02-12T17:36:56.177892Z",
     "start_time": "2022-02-12T17:36:56.141913Z"
    }
   },
   "outputs": [
    {
     "data": {
      "text/html": [
       "<div>\n",
       "<style scoped>\n",
       "    .dataframe tbody tr th:only-of-type {\n",
       "        vertical-align: middle;\n",
       "    }\n",
       "\n",
       "    .dataframe tbody tr th {\n",
       "        vertical-align: top;\n",
       "    }\n",
       "\n",
       "    .dataframe thead th {\n",
       "        text-align: right;\n",
       "    }\n",
       "</style>\n",
       "<table border=\"1\" class=\"dataframe\">\n",
       "  <thead>\n",
       "    <tr style=\"text-align: right;\">\n",
       "      <th></th>\n",
       "      <th>year</th>\n",
       "      <th>per capita income (US$)</th>\n",
       "    </tr>\n",
       "  </thead>\n",
       "  <tbody>\n",
       "    <tr>\n",
       "      <th>0</th>\n",
       "      <td>1970</td>\n",
       "      <td>3399.299037</td>\n",
       "    </tr>\n",
       "    <tr>\n",
       "      <th>1</th>\n",
       "      <td>1971</td>\n",
       "      <td>3768.297935</td>\n",
       "    </tr>\n",
       "    <tr>\n",
       "      <th>2</th>\n",
       "      <td>1972</td>\n",
       "      <td>4251.175484</td>\n",
       "    </tr>\n",
       "    <tr>\n",
       "      <th>3</th>\n",
       "      <td>1973</td>\n",
       "      <td>4804.463248</td>\n",
       "    </tr>\n",
       "    <tr>\n",
       "      <th>4</th>\n",
       "      <td>1974</td>\n",
       "      <td>5576.514583</td>\n",
       "    </tr>\n",
       "  </tbody>\n",
       "</table>\n",
       "</div>"
      ],
      "text/plain": [
       "   year  per capita income (US$)\n",
       "0  1970              3399.299037\n",
       "1  1971              3768.297935\n",
       "2  1972              4251.175484\n",
       "3  1973              4804.463248\n",
       "4  1974              5576.514583"
      ]
     },
     "execution_count": 3,
     "metadata": {},
     "output_type": "execute_result"
    }
   ],
   "source": [
    "df.head()"
   ]
  },
  {
   "cell_type": "code",
   "execution_count": 4,
   "metadata": {
    "ExecuteTime": {
     "end_time": "2022-02-12T17:36:56.192884Z",
     "start_time": "2022-02-12T17:36:56.183888Z"
    }
   },
   "outputs": [
    {
     "data": {
      "text/plain": [
       "(47, 2)"
      ]
     },
     "execution_count": 4,
     "metadata": {},
     "output_type": "execute_result"
    }
   ],
   "source": [
    "df.shape"
   ]
  },
  {
   "cell_type": "markdown",
   "metadata": {},
   "source": [
    "#### Scattering the Data Points"
   ]
  },
  {
   "cell_type": "code",
   "execution_count": 5,
   "metadata": {
    "ExecuteTime": {
     "end_time": "2022-02-12T17:36:56.301821Z",
     "start_time": "2022-02-12T17:36:56.196881Z"
    }
   },
   "outputs": [
    {
     "data": {
      "application/javascript": [
       "/* Put everything inside the global mpl namespace */\n",
       "/* global mpl */\n",
       "window.mpl = {};\n",
       "\n",
       "mpl.get_websocket_type = function () {\n",
       "    if (typeof WebSocket !== 'undefined') {\n",
       "        return WebSocket;\n",
       "    } else if (typeof MozWebSocket !== 'undefined') {\n",
       "        return MozWebSocket;\n",
       "    } else {\n",
       "        alert(\n",
       "            'Your browser does not have WebSocket support. ' +\n",
       "                'Please try Chrome, Safari or Firefox ≥ 6. ' +\n",
       "                'Firefox 4 and 5 are also supported but you ' +\n",
       "                'have to enable WebSockets in about:config.'\n",
       "        );\n",
       "    }\n",
       "};\n",
       "\n",
       "mpl.figure = function (figure_id, websocket, ondownload, parent_element) {\n",
       "    this.id = figure_id;\n",
       "\n",
       "    this.ws = websocket;\n",
       "\n",
       "    this.supports_binary = this.ws.binaryType !== undefined;\n",
       "\n",
       "    if (!this.supports_binary) {\n",
       "        var warnings = document.getElementById('mpl-warnings');\n",
       "        if (warnings) {\n",
       "            warnings.style.display = 'block';\n",
       "            warnings.textContent =\n",
       "                'This browser does not support binary websocket messages. ' +\n",
       "                'Performance may be slow.';\n",
       "        }\n",
       "    }\n",
       "\n",
       "    this.imageObj = new Image();\n",
       "\n",
       "    this.context = undefined;\n",
       "    this.message = undefined;\n",
       "    this.canvas = undefined;\n",
       "    this.rubberband_canvas = undefined;\n",
       "    this.rubberband_context = undefined;\n",
       "    this.format_dropdown = undefined;\n",
       "\n",
       "    this.image_mode = 'full';\n",
       "\n",
       "    this.root = document.createElement('div');\n",
       "    this.root.setAttribute('style', 'display: inline-block');\n",
       "    this._root_extra_style(this.root);\n",
       "\n",
       "    parent_element.appendChild(this.root);\n",
       "\n",
       "    this._init_header(this);\n",
       "    this._init_canvas(this);\n",
       "    this._init_toolbar(this);\n",
       "\n",
       "    var fig = this;\n",
       "\n",
       "    this.waiting = false;\n",
       "\n",
       "    this.ws.onopen = function () {\n",
       "        fig.send_message('supports_binary', { value: fig.supports_binary });\n",
       "        fig.send_message('send_image_mode', {});\n",
       "        if (fig.ratio !== 1) {\n",
       "            fig.send_message('set_dpi_ratio', { dpi_ratio: fig.ratio });\n",
       "        }\n",
       "        fig.send_message('refresh', {});\n",
       "    };\n",
       "\n",
       "    this.imageObj.onload = function () {\n",
       "        if (fig.image_mode === 'full') {\n",
       "            // Full images could contain transparency (where diff images\n",
       "            // almost always do), so we need to clear the canvas so that\n",
       "            // there is no ghosting.\n",
       "            fig.context.clearRect(0, 0, fig.canvas.width, fig.canvas.height);\n",
       "        }\n",
       "        fig.context.drawImage(fig.imageObj, 0, 0);\n",
       "    };\n",
       "\n",
       "    this.imageObj.onunload = function () {\n",
       "        fig.ws.close();\n",
       "    };\n",
       "\n",
       "    this.ws.onmessage = this._make_on_message_function(this);\n",
       "\n",
       "    this.ondownload = ondownload;\n",
       "};\n",
       "\n",
       "mpl.figure.prototype._init_header = function () {\n",
       "    var titlebar = document.createElement('div');\n",
       "    titlebar.classList =\n",
       "        'ui-dialog-titlebar ui-widget-header ui-corner-all ui-helper-clearfix';\n",
       "    var titletext = document.createElement('div');\n",
       "    titletext.classList = 'ui-dialog-title';\n",
       "    titletext.setAttribute(\n",
       "        'style',\n",
       "        'width: 100%; text-align: center; padding: 3px;'\n",
       "    );\n",
       "    titlebar.appendChild(titletext);\n",
       "    this.root.appendChild(titlebar);\n",
       "    this.header = titletext;\n",
       "};\n",
       "\n",
       "mpl.figure.prototype._canvas_extra_style = function (_canvas_div) {};\n",
       "\n",
       "mpl.figure.prototype._root_extra_style = function (_canvas_div) {};\n",
       "\n",
       "mpl.figure.prototype._init_canvas = function () {\n",
       "    var fig = this;\n",
       "\n",
       "    var canvas_div = (this.canvas_div = document.createElement('div'));\n",
       "    canvas_div.setAttribute(\n",
       "        'style',\n",
       "        'border: 1px solid #ddd;' +\n",
       "            'box-sizing: content-box;' +\n",
       "            'clear: both;' +\n",
       "            'min-height: 1px;' +\n",
       "            'min-width: 1px;' +\n",
       "            'outline: 0;' +\n",
       "            'overflow: hidden;' +\n",
       "            'position: relative;' +\n",
       "            'resize: both;'\n",
       "    );\n",
       "\n",
       "    function on_keyboard_event_closure(name) {\n",
       "        return function (event) {\n",
       "            return fig.key_event(event, name);\n",
       "        };\n",
       "    }\n",
       "\n",
       "    canvas_div.addEventListener(\n",
       "        'keydown',\n",
       "        on_keyboard_event_closure('key_press')\n",
       "    );\n",
       "    canvas_div.addEventListener(\n",
       "        'keyup',\n",
       "        on_keyboard_event_closure('key_release')\n",
       "    );\n",
       "\n",
       "    this._canvas_extra_style(canvas_div);\n",
       "    this.root.appendChild(canvas_div);\n",
       "\n",
       "    var canvas = (this.canvas = document.createElement('canvas'));\n",
       "    canvas.classList.add('mpl-canvas');\n",
       "    canvas.setAttribute('style', 'box-sizing: content-box;');\n",
       "\n",
       "    this.context = canvas.getContext('2d');\n",
       "\n",
       "    var backingStore =\n",
       "        this.context.backingStorePixelRatio ||\n",
       "        this.context.webkitBackingStorePixelRatio ||\n",
       "        this.context.mozBackingStorePixelRatio ||\n",
       "        this.context.msBackingStorePixelRatio ||\n",
       "        this.context.oBackingStorePixelRatio ||\n",
       "        this.context.backingStorePixelRatio ||\n",
       "        1;\n",
       "\n",
       "    this.ratio = (window.devicePixelRatio || 1) / backingStore;\n",
       "    if (this.ratio !== 1) {\n",
       "        fig.send_message('set_dpi_ratio', { dpi_ratio: this.ratio });\n",
       "    }\n",
       "\n",
       "    var rubberband_canvas = (this.rubberband_canvas = document.createElement(\n",
       "        'canvas'\n",
       "    ));\n",
       "    rubberband_canvas.setAttribute(\n",
       "        'style',\n",
       "        'box-sizing: content-box; position: absolute; left: 0; top: 0; z-index: 1;'\n",
       "    );\n",
       "\n",
       "    var resizeObserver = new ResizeObserver(function (entries) {\n",
       "        var nentries = entries.length;\n",
       "        for (var i = 0; i < nentries; i++) {\n",
       "            var entry = entries[i];\n",
       "            var width, height;\n",
       "            if (entry.contentBoxSize) {\n",
       "                if (entry.contentBoxSize instanceof Array) {\n",
       "                    // Chrome 84 implements new version of spec.\n",
       "                    width = entry.contentBoxSize[0].inlineSize;\n",
       "                    height = entry.contentBoxSize[0].blockSize;\n",
       "                } else {\n",
       "                    // Firefox implements old version of spec.\n",
       "                    width = entry.contentBoxSize.inlineSize;\n",
       "                    height = entry.contentBoxSize.blockSize;\n",
       "                }\n",
       "            } else {\n",
       "                // Chrome <84 implements even older version of spec.\n",
       "                width = entry.contentRect.width;\n",
       "                height = entry.contentRect.height;\n",
       "            }\n",
       "\n",
       "            // Keep the size of the canvas and rubber band canvas in sync with\n",
       "            // the canvas container.\n",
       "            if (entry.devicePixelContentBoxSize) {\n",
       "                // Chrome 84 implements new version of spec.\n",
       "                canvas.setAttribute(\n",
       "                    'width',\n",
       "                    entry.devicePixelContentBoxSize[0].inlineSize\n",
       "                );\n",
       "                canvas.setAttribute(\n",
       "                    'height',\n",
       "                    entry.devicePixelContentBoxSize[0].blockSize\n",
       "                );\n",
       "            } else {\n",
       "                canvas.setAttribute('width', width * fig.ratio);\n",
       "                canvas.setAttribute('height', height * fig.ratio);\n",
       "            }\n",
       "            canvas.setAttribute(\n",
       "                'style',\n",
       "                'width: ' + width + 'px; height: ' + height + 'px;'\n",
       "            );\n",
       "\n",
       "            rubberband_canvas.setAttribute('width', width);\n",
       "            rubberband_canvas.setAttribute('height', height);\n",
       "\n",
       "            // And update the size in Python. We ignore the initial 0/0 size\n",
       "            // that occurs as the element is placed into the DOM, which should\n",
       "            // otherwise not happen due to the minimum size styling.\n",
       "            if (width != 0 && height != 0) {\n",
       "                fig.request_resize(width, height);\n",
       "            }\n",
       "        }\n",
       "    });\n",
       "    resizeObserver.observe(canvas_div);\n",
       "\n",
       "    function on_mouse_event_closure(name) {\n",
       "        return function (event) {\n",
       "            return fig.mouse_event(event, name);\n",
       "        };\n",
       "    }\n",
       "\n",
       "    rubberband_canvas.addEventListener(\n",
       "        'mousedown',\n",
       "        on_mouse_event_closure('button_press')\n",
       "    );\n",
       "    rubberband_canvas.addEventListener(\n",
       "        'mouseup',\n",
       "        on_mouse_event_closure('button_release')\n",
       "    );\n",
       "    // Throttle sequential mouse events to 1 every 20ms.\n",
       "    rubberband_canvas.addEventListener(\n",
       "        'mousemove',\n",
       "        on_mouse_event_closure('motion_notify')\n",
       "    );\n",
       "\n",
       "    rubberband_canvas.addEventListener(\n",
       "        'mouseenter',\n",
       "        on_mouse_event_closure('figure_enter')\n",
       "    );\n",
       "    rubberband_canvas.addEventListener(\n",
       "        'mouseleave',\n",
       "        on_mouse_event_closure('figure_leave')\n",
       "    );\n",
       "\n",
       "    canvas_div.addEventListener('wheel', function (event) {\n",
       "        if (event.deltaY < 0) {\n",
       "            event.step = 1;\n",
       "        } else {\n",
       "            event.step = -1;\n",
       "        }\n",
       "        on_mouse_event_closure('scroll')(event);\n",
       "    });\n",
       "\n",
       "    canvas_div.appendChild(canvas);\n",
       "    canvas_div.appendChild(rubberband_canvas);\n",
       "\n",
       "    this.rubberband_context = rubberband_canvas.getContext('2d');\n",
       "    this.rubberband_context.strokeStyle = '#000000';\n",
       "\n",
       "    this._resize_canvas = function (width, height, forward) {\n",
       "        if (forward) {\n",
       "            canvas_div.style.width = width + 'px';\n",
       "            canvas_div.style.height = height + 'px';\n",
       "        }\n",
       "    };\n",
       "\n",
       "    // Disable right mouse context menu.\n",
       "    this.rubberband_canvas.addEventListener('contextmenu', function (_e) {\n",
       "        event.preventDefault();\n",
       "        return false;\n",
       "    });\n",
       "\n",
       "    function set_focus() {\n",
       "        canvas.focus();\n",
       "        canvas_div.focus();\n",
       "    }\n",
       "\n",
       "    window.setTimeout(set_focus, 100);\n",
       "};\n",
       "\n",
       "mpl.figure.prototype._init_toolbar = function () {\n",
       "    var fig = this;\n",
       "\n",
       "    var toolbar = document.createElement('div');\n",
       "    toolbar.classList = 'mpl-toolbar';\n",
       "    this.root.appendChild(toolbar);\n",
       "\n",
       "    function on_click_closure(name) {\n",
       "        return function (_event) {\n",
       "            return fig.toolbar_button_onclick(name);\n",
       "        };\n",
       "    }\n",
       "\n",
       "    function on_mouseover_closure(tooltip) {\n",
       "        return function (event) {\n",
       "            if (!event.currentTarget.disabled) {\n",
       "                return fig.toolbar_button_onmouseover(tooltip);\n",
       "            }\n",
       "        };\n",
       "    }\n",
       "\n",
       "    fig.buttons = {};\n",
       "    var buttonGroup = document.createElement('div');\n",
       "    buttonGroup.classList = 'mpl-button-group';\n",
       "    for (var toolbar_ind in mpl.toolbar_items) {\n",
       "        var name = mpl.toolbar_items[toolbar_ind][0];\n",
       "        var tooltip = mpl.toolbar_items[toolbar_ind][1];\n",
       "        var image = mpl.toolbar_items[toolbar_ind][2];\n",
       "        var method_name = mpl.toolbar_items[toolbar_ind][3];\n",
       "\n",
       "        if (!name) {\n",
       "            /* Instead of a spacer, we start a new button group. */\n",
       "            if (buttonGroup.hasChildNodes()) {\n",
       "                toolbar.appendChild(buttonGroup);\n",
       "            }\n",
       "            buttonGroup = document.createElement('div');\n",
       "            buttonGroup.classList = 'mpl-button-group';\n",
       "            continue;\n",
       "        }\n",
       "\n",
       "        var button = (fig.buttons[name] = document.createElement('button'));\n",
       "        button.classList = 'mpl-widget';\n",
       "        button.setAttribute('role', 'button');\n",
       "        button.setAttribute('aria-disabled', 'false');\n",
       "        button.addEventListener('click', on_click_closure(method_name));\n",
       "        button.addEventListener('mouseover', on_mouseover_closure(tooltip));\n",
       "\n",
       "        var icon_img = document.createElement('img');\n",
       "        icon_img.src = '_images/' + image + '.png';\n",
       "        icon_img.srcset = '_images/' + image + '_large.png 2x';\n",
       "        icon_img.alt = tooltip;\n",
       "        button.appendChild(icon_img);\n",
       "\n",
       "        buttonGroup.appendChild(button);\n",
       "    }\n",
       "\n",
       "    if (buttonGroup.hasChildNodes()) {\n",
       "        toolbar.appendChild(buttonGroup);\n",
       "    }\n",
       "\n",
       "    var fmt_picker = document.createElement('select');\n",
       "    fmt_picker.classList = 'mpl-widget';\n",
       "    toolbar.appendChild(fmt_picker);\n",
       "    this.format_dropdown = fmt_picker;\n",
       "\n",
       "    for (var ind in mpl.extensions) {\n",
       "        var fmt = mpl.extensions[ind];\n",
       "        var option = document.createElement('option');\n",
       "        option.selected = fmt === mpl.default_extension;\n",
       "        option.innerHTML = fmt;\n",
       "        fmt_picker.appendChild(option);\n",
       "    }\n",
       "\n",
       "    var status_bar = document.createElement('span');\n",
       "    status_bar.classList = 'mpl-message';\n",
       "    toolbar.appendChild(status_bar);\n",
       "    this.message = status_bar;\n",
       "};\n",
       "\n",
       "mpl.figure.prototype.request_resize = function (x_pixels, y_pixels) {\n",
       "    // Request matplotlib to resize the figure. Matplotlib will then trigger a resize in the client,\n",
       "    // which will in turn request a refresh of the image.\n",
       "    this.send_message('resize', { width: x_pixels, height: y_pixels });\n",
       "};\n",
       "\n",
       "mpl.figure.prototype.send_message = function (type, properties) {\n",
       "    properties['type'] = type;\n",
       "    properties['figure_id'] = this.id;\n",
       "    this.ws.send(JSON.stringify(properties));\n",
       "};\n",
       "\n",
       "mpl.figure.prototype.send_draw_message = function () {\n",
       "    if (!this.waiting) {\n",
       "        this.waiting = true;\n",
       "        this.ws.send(JSON.stringify({ type: 'draw', figure_id: this.id }));\n",
       "    }\n",
       "};\n",
       "\n",
       "mpl.figure.prototype.handle_save = function (fig, _msg) {\n",
       "    var format_dropdown = fig.format_dropdown;\n",
       "    var format = format_dropdown.options[format_dropdown.selectedIndex].value;\n",
       "    fig.ondownload(fig, format);\n",
       "};\n",
       "\n",
       "mpl.figure.prototype.handle_resize = function (fig, msg) {\n",
       "    var size = msg['size'];\n",
       "    if (size[0] !== fig.canvas.width || size[1] !== fig.canvas.height) {\n",
       "        fig._resize_canvas(size[0], size[1], msg['forward']);\n",
       "        fig.send_message('refresh', {});\n",
       "    }\n",
       "};\n",
       "\n",
       "mpl.figure.prototype.handle_rubberband = function (fig, msg) {\n",
       "    var x0 = msg['x0'] / fig.ratio;\n",
       "    var y0 = (fig.canvas.height - msg['y0']) / fig.ratio;\n",
       "    var x1 = msg['x1'] / fig.ratio;\n",
       "    var y1 = (fig.canvas.height - msg['y1']) / fig.ratio;\n",
       "    x0 = Math.floor(x0) + 0.5;\n",
       "    y0 = Math.floor(y0) + 0.5;\n",
       "    x1 = Math.floor(x1) + 0.5;\n",
       "    y1 = Math.floor(y1) + 0.5;\n",
       "    var min_x = Math.min(x0, x1);\n",
       "    var min_y = Math.min(y0, y1);\n",
       "    var width = Math.abs(x1 - x0);\n",
       "    var height = Math.abs(y1 - y0);\n",
       "\n",
       "    fig.rubberband_context.clearRect(\n",
       "        0,\n",
       "        0,\n",
       "        fig.canvas.width / fig.ratio,\n",
       "        fig.canvas.height / fig.ratio\n",
       "    );\n",
       "\n",
       "    fig.rubberband_context.strokeRect(min_x, min_y, width, height);\n",
       "};\n",
       "\n",
       "mpl.figure.prototype.handle_figure_label = function (fig, msg) {\n",
       "    // Updates the figure title.\n",
       "    fig.header.textContent = msg['label'];\n",
       "};\n",
       "\n",
       "mpl.figure.prototype.handle_cursor = function (fig, msg) {\n",
       "    var cursor = msg['cursor'];\n",
       "    switch (cursor) {\n",
       "        case 0:\n",
       "            cursor = 'pointer';\n",
       "            break;\n",
       "        case 1:\n",
       "            cursor = 'default';\n",
       "            break;\n",
       "        case 2:\n",
       "            cursor = 'crosshair';\n",
       "            break;\n",
       "        case 3:\n",
       "            cursor = 'move';\n",
       "            break;\n",
       "    }\n",
       "    fig.rubberband_canvas.style.cursor = cursor;\n",
       "};\n",
       "\n",
       "mpl.figure.prototype.handle_message = function (fig, msg) {\n",
       "    fig.message.textContent = msg['message'];\n",
       "};\n",
       "\n",
       "mpl.figure.prototype.handle_draw = function (fig, _msg) {\n",
       "    // Request the server to send over a new figure.\n",
       "    fig.send_draw_message();\n",
       "};\n",
       "\n",
       "mpl.figure.prototype.handle_image_mode = function (fig, msg) {\n",
       "    fig.image_mode = msg['mode'];\n",
       "};\n",
       "\n",
       "mpl.figure.prototype.handle_history_buttons = function (fig, msg) {\n",
       "    for (var key in msg) {\n",
       "        if (!(key in fig.buttons)) {\n",
       "            continue;\n",
       "        }\n",
       "        fig.buttons[key].disabled = !msg[key];\n",
       "        fig.buttons[key].setAttribute('aria-disabled', !msg[key]);\n",
       "    }\n",
       "};\n",
       "\n",
       "mpl.figure.prototype.handle_navigate_mode = function (fig, msg) {\n",
       "    if (msg['mode'] === 'PAN') {\n",
       "        fig.buttons['Pan'].classList.add('active');\n",
       "        fig.buttons['Zoom'].classList.remove('active');\n",
       "    } else if (msg['mode'] === 'ZOOM') {\n",
       "        fig.buttons['Pan'].classList.remove('active');\n",
       "        fig.buttons['Zoom'].classList.add('active');\n",
       "    } else {\n",
       "        fig.buttons['Pan'].classList.remove('active');\n",
       "        fig.buttons['Zoom'].classList.remove('active');\n",
       "    }\n",
       "};\n",
       "\n",
       "mpl.figure.prototype.updated_canvas_event = function () {\n",
       "    // Called whenever the canvas gets updated.\n",
       "    this.send_message('ack', {});\n",
       "};\n",
       "\n",
       "// A function to construct a web socket function for onmessage handling.\n",
       "// Called in the figure constructor.\n",
       "mpl.figure.prototype._make_on_message_function = function (fig) {\n",
       "    return function socket_on_message(evt) {\n",
       "        if (evt.data instanceof Blob) {\n",
       "            /* FIXME: We get \"Resource interpreted as Image but\n",
       "             * transferred with MIME type text/plain:\" errors on\n",
       "             * Chrome.  But how to set the MIME type?  It doesn't seem\n",
       "             * to be part of the websocket stream */\n",
       "            evt.data.type = 'image/png';\n",
       "\n",
       "            /* Free the memory for the previous frames */\n",
       "            if (fig.imageObj.src) {\n",
       "                (window.URL || window.webkitURL).revokeObjectURL(\n",
       "                    fig.imageObj.src\n",
       "                );\n",
       "            }\n",
       "\n",
       "            fig.imageObj.src = (window.URL || window.webkitURL).createObjectURL(\n",
       "                evt.data\n",
       "            );\n",
       "            fig.updated_canvas_event();\n",
       "            fig.waiting = false;\n",
       "            return;\n",
       "        } else if (\n",
       "            typeof evt.data === 'string' &&\n",
       "            evt.data.slice(0, 21) === 'data:image/png;base64'\n",
       "        ) {\n",
       "            fig.imageObj.src = evt.data;\n",
       "            fig.updated_canvas_event();\n",
       "            fig.waiting = false;\n",
       "            return;\n",
       "        }\n",
       "\n",
       "        var msg = JSON.parse(evt.data);\n",
       "        var msg_type = msg['type'];\n",
       "\n",
       "        // Call the  \"handle_{type}\" callback, which takes\n",
       "        // the figure and JSON message as its only arguments.\n",
       "        try {\n",
       "            var callback = fig['handle_' + msg_type];\n",
       "        } catch (e) {\n",
       "            console.log(\n",
       "                \"No handler for the '\" + msg_type + \"' message type: \",\n",
       "                msg\n",
       "            );\n",
       "            return;\n",
       "        }\n",
       "\n",
       "        if (callback) {\n",
       "            try {\n",
       "                // console.log(\"Handling '\" + msg_type + \"' message: \", msg);\n",
       "                callback(fig, msg);\n",
       "            } catch (e) {\n",
       "                console.log(\n",
       "                    \"Exception inside the 'handler_\" + msg_type + \"' callback:\",\n",
       "                    e,\n",
       "                    e.stack,\n",
       "                    msg\n",
       "                );\n",
       "            }\n",
       "        }\n",
       "    };\n",
       "};\n",
       "\n",
       "// from http://stackoverflow.com/questions/1114465/getting-mouse-location-in-canvas\n",
       "mpl.findpos = function (e) {\n",
       "    //this section is from http://www.quirksmode.org/js/events_properties.html\n",
       "    var targ;\n",
       "    if (!e) {\n",
       "        e = window.event;\n",
       "    }\n",
       "    if (e.target) {\n",
       "        targ = e.target;\n",
       "    } else if (e.srcElement) {\n",
       "        targ = e.srcElement;\n",
       "    }\n",
       "    if (targ.nodeType === 3) {\n",
       "        // defeat Safari bug\n",
       "        targ = targ.parentNode;\n",
       "    }\n",
       "\n",
       "    // pageX,Y are the mouse positions relative to the document\n",
       "    var boundingRect = targ.getBoundingClientRect();\n",
       "    var x = e.pageX - (boundingRect.left + document.body.scrollLeft);\n",
       "    var y = e.pageY - (boundingRect.top + document.body.scrollTop);\n",
       "\n",
       "    return { x: x, y: y };\n",
       "};\n",
       "\n",
       "/*\n",
       " * return a copy of an object with only non-object keys\n",
       " * we need this to avoid circular references\n",
       " * http://stackoverflow.com/a/24161582/3208463\n",
       " */\n",
       "function simpleKeys(original) {\n",
       "    return Object.keys(original).reduce(function (obj, key) {\n",
       "        if (typeof original[key] !== 'object') {\n",
       "            obj[key] = original[key];\n",
       "        }\n",
       "        return obj;\n",
       "    }, {});\n",
       "}\n",
       "\n",
       "mpl.figure.prototype.mouse_event = function (event, name) {\n",
       "    var canvas_pos = mpl.findpos(event);\n",
       "\n",
       "    if (name === 'button_press') {\n",
       "        this.canvas.focus();\n",
       "        this.canvas_div.focus();\n",
       "    }\n",
       "\n",
       "    var x = canvas_pos.x * this.ratio;\n",
       "    var y = canvas_pos.y * this.ratio;\n",
       "\n",
       "    this.send_message(name, {\n",
       "        x: x,\n",
       "        y: y,\n",
       "        button: event.button,\n",
       "        step: event.step,\n",
       "        guiEvent: simpleKeys(event),\n",
       "    });\n",
       "\n",
       "    /* This prevents the web browser from automatically changing to\n",
       "     * the text insertion cursor when the button is pressed.  We want\n",
       "     * to control all of the cursor setting manually through the\n",
       "     * 'cursor' event from matplotlib */\n",
       "    event.preventDefault();\n",
       "    return false;\n",
       "};\n",
       "\n",
       "mpl.figure.prototype._key_event_extra = function (_event, _name) {\n",
       "    // Handle any extra behaviour associated with a key event\n",
       "};\n",
       "\n",
       "mpl.figure.prototype.key_event = function (event, name) {\n",
       "    // Prevent repeat events\n",
       "    if (name === 'key_press') {\n",
       "        if (event.which === this._key) {\n",
       "            return;\n",
       "        } else {\n",
       "            this._key = event.which;\n",
       "        }\n",
       "    }\n",
       "    if (name === 'key_release') {\n",
       "        this._key = null;\n",
       "    }\n",
       "\n",
       "    var value = '';\n",
       "    if (event.ctrlKey && event.which !== 17) {\n",
       "        value += 'ctrl+';\n",
       "    }\n",
       "    if (event.altKey && event.which !== 18) {\n",
       "        value += 'alt+';\n",
       "    }\n",
       "    if (event.shiftKey && event.which !== 16) {\n",
       "        value += 'shift+';\n",
       "    }\n",
       "\n",
       "    value += 'k';\n",
       "    value += event.which.toString();\n",
       "\n",
       "    this._key_event_extra(event, name);\n",
       "\n",
       "    this.send_message(name, { key: value, guiEvent: simpleKeys(event) });\n",
       "    return false;\n",
       "};\n",
       "\n",
       "mpl.figure.prototype.toolbar_button_onclick = function (name) {\n",
       "    if (name === 'download') {\n",
       "        this.handle_save(this, null);\n",
       "    } else {\n",
       "        this.send_message('toolbar_button', { name: name });\n",
       "    }\n",
       "};\n",
       "\n",
       "mpl.figure.prototype.toolbar_button_onmouseover = function (tooltip) {\n",
       "    this.message.textContent = tooltip;\n",
       "};\n",
       "mpl.toolbar_items = [[\"Home\", \"Reset original view\", \"fa fa-home icon-home\", \"home\"], [\"Back\", \"Back to previous view\", \"fa fa-arrow-left icon-arrow-left\", \"back\"], [\"Forward\", \"Forward to next view\", \"fa fa-arrow-right icon-arrow-right\", \"forward\"], [\"\", \"\", \"\", \"\"], [\"Pan\", \"Left button pans, Right button zooms\\nx/y fixes axis, CTRL fixes aspect\", \"fa fa-arrows icon-move\", \"pan\"], [\"Zoom\", \"Zoom to rectangle\\nx/y fixes axis, CTRL fixes aspect\", \"fa fa-square-o icon-check-empty\", \"zoom\"], [\"\", \"\", \"\", \"\"], [\"Download\", \"Download plot\", \"fa fa-floppy-o icon-save\", \"download\"]];\n",
       "\n",
       "mpl.extensions = [\"eps\", \"jpeg\", \"pdf\", \"png\", \"ps\", \"raw\", \"svg\", \"tif\"];\n",
       "\n",
       "mpl.default_extension = \"png\";/* global mpl */\n",
       "\n",
       "var comm_websocket_adapter = function (comm) {\n",
       "    // Create a \"websocket\"-like object which calls the given IPython comm\n",
       "    // object with the appropriate methods. Currently this is a non binary\n",
       "    // socket, so there is still some room for performance tuning.\n",
       "    var ws = {};\n",
       "\n",
       "    ws.close = function () {\n",
       "        comm.close();\n",
       "    };\n",
       "    ws.send = function (m) {\n",
       "        //console.log('sending', m);\n",
       "        comm.send(m);\n",
       "    };\n",
       "    // Register the callback with on_msg.\n",
       "    comm.on_msg(function (msg) {\n",
       "        //console.log('receiving', msg['content']['data'], msg);\n",
       "        // Pass the mpl event to the overridden (by mpl) onmessage function.\n",
       "        ws.onmessage(msg['content']['data']);\n",
       "    });\n",
       "    return ws;\n",
       "};\n",
       "\n",
       "mpl.mpl_figure_comm = function (comm, msg) {\n",
       "    // This is the function which gets called when the mpl process\n",
       "    // starts-up an IPython Comm through the \"matplotlib\" channel.\n",
       "\n",
       "    var id = msg.content.data.id;\n",
       "    // Get hold of the div created by the display call when the Comm\n",
       "    // socket was opened in Python.\n",
       "    var element = document.getElementById(id);\n",
       "    var ws_proxy = comm_websocket_adapter(comm);\n",
       "\n",
       "    function ondownload(figure, _format) {\n",
       "        window.open(figure.canvas.toDataURL());\n",
       "    }\n",
       "\n",
       "    var fig = new mpl.figure(id, ws_proxy, ondownload, element);\n",
       "\n",
       "    // Call onopen now - mpl needs it, as it is assuming we've passed it a real\n",
       "    // web socket which is closed, not our websocket->open comm proxy.\n",
       "    ws_proxy.onopen();\n",
       "\n",
       "    fig.parent_element = element;\n",
       "    fig.cell_info = mpl.find_output_cell(\"<div id='\" + id + \"'></div>\");\n",
       "    if (!fig.cell_info) {\n",
       "        console.error('Failed to find cell for figure', id, fig);\n",
       "        return;\n",
       "    }\n",
       "    fig.cell_info[0].output_area.element.one(\n",
       "        'cleared',\n",
       "        { fig: fig },\n",
       "        fig._remove_fig_handler\n",
       "    );\n",
       "};\n",
       "\n",
       "mpl.figure.prototype.handle_close = function (fig, msg) {\n",
       "    var width = fig.canvas.width / fig.ratio;\n",
       "    fig.cell_info[0].output_area.element.off(\n",
       "        'cleared',\n",
       "        fig._remove_fig_handler\n",
       "    );\n",
       "\n",
       "    // Update the output cell to use the data from the current canvas.\n",
       "    fig.push_to_output();\n",
       "    var dataURL = fig.canvas.toDataURL();\n",
       "    // Re-enable the keyboard manager in IPython - without this line, in FF,\n",
       "    // the notebook keyboard shortcuts fail.\n",
       "    IPython.keyboard_manager.enable();\n",
       "    fig.parent_element.innerHTML =\n",
       "        '<img src=\"' + dataURL + '\" width=\"' + width + '\">';\n",
       "    fig.close_ws(fig, msg);\n",
       "};\n",
       "\n",
       "mpl.figure.prototype.close_ws = function (fig, msg) {\n",
       "    fig.send_message('closing', msg);\n",
       "    // fig.ws.close()\n",
       "};\n",
       "\n",
       "mpl.figure.prototype.push_to_output = function (_remove_interactive) {\n",
       "    // Turn the data on the canvas into data in the output cell.\n",
       "    var width = this.canvas.width / this.ratio;\n",
       "    var dataURL = this.canvas.toDataURL();\n",
       "    this.cell_info[1]['text/html'] =\n",
       "        '<img src=\"' + dataURL + '\" width=\"' + width + '\">';\n",
       "};\n",
       "\n",
       "mpl.figure.prototype.updated_canvas_event = function () {\n",
       "    // Tell IPython that the notebook contents must change.\n",
       "    IPython.notebook.set_dirty(true);\n",
       "    this.send_message('ack', {});\n",
       "    var fig = this;\n",
       "    // Wait a second, then push the new image to the DOM so\n",
       "    // that it is saved nicely (might be nice to debounce this).\n",
       "    setTimeout(function () {\n",
       "        fig.push_to_output();\n",
       "    }, 1000);\n",
       "};\n",
       "\n",
       "mpl.figure.prototype._init_toolbar = function () {\n",
       "    var fig = this;\n",
       "\n",
       "    var toolbar = document.createElement('div');\n",
       "    toolbar.classList = 'btn-toolbar';\n",
       "    this.root.appendChild(toolbar);\n",
       "\n",
       "    function on_click_closure(name) {\n",
       "        return function (_event) {\n",
       "            return fig.toolbar_button_onclick(name);\n",
       "        };\n",
       "    }\n",
       "\n",
       "    function on_mouseover_closure(tooltip) {\n",
       "        return function (event) {\n",
       "            if (!event.currentTarget.disabled) {\n",
       "                return fig.toolbar_button_onmouseover(tooltip);\n",
       "            }\n",
       "        };\n",
       "    }\n",
       "\n",
       "    fig.buttons = {};\n",
       "    var buttonGroup = document.createElement('div');\n",
       "    buttonGroup.classList = 'btn-group';\n",
       "    var button;\n",
       "    for (var toolbar_ind in mpl.toolbar_items) {\n",
       "        var name = mpl.toolbar_items[toolbar_ind][0];\n",
       "        var tooltip = mpl.toolbar_items[toolbar_ind][1];\n",
       "        var image = mpl.toolbar_items[toolbar_ind][2];\n",
       "        var method_name = mpl.toolbar_items[toolbar_ind][3];\n",
       "\n",
       "        if (!name) {\n",
       "            /* Instead of a spacer, we start a new button group. */\n",
       "            if (buttonGroup.hasChildNodes()) {\n",
       "                toolbar.appendChild(buttonGroup);\n",
       "            }\n",
       "            buttonGroup = document.createElement('div');\n",
       "            buttonGroup.classList = 'btn-group';\n",
       "            continue;\n",
       "        }\n",
       "\n",
       "        button = fig.buttons[name] = document.createElement('button');\n",
       "        button.classList = 'btn btn-default';\n",
       "        button.href = '#';\n",
       "        button.title = name;\n",
       "        button.innerHTML = '<i class=\"fa ' + image + ' fa-lg\"></i>';\n",
       "        button.addEventListener('click', on_click_closure(method_name));\n",
       "        button.addEventListener('mouseover', on_mouseover_closure(tooltip));\n",
       "        buttonGroup.appendChild(button);\n",
       "    }\n",
       "\n",
       "    if (buttonGroup.hasChildNodes()) {\n",
       "        toolbar.appendChild(buttonGroup);\n",
       "    }\n",
       "\n",
       "    // Add the status bar.\n",
       "    var status_bar = document.createElement('span');\n",
       "    status_bar.classList = 'mpl-message pull-right';\n",
       "    toolbar.appendChild(status_bar);\n",
       "    this.message = status_bar;\n",
       "\n",
       "    // Add the close button to the window.\n",
       "    var buttongrp = document.createElement('div');\n",
       "    buttongrp.classList = 'btn-group inline pull-right';\n",
       "    button = document.createElement('button');\n",
       "    button.classList = 'btn btn-mini btn-primary';\n",
       "    button.href = '#';\n",
       "    button.title = 'Stop Interaction';\n",
       "    button.innerHTML = '<i class=\"fa fa-power-off icon-remove icon-large\"></i>';\n",
       "    button.addEventListener('click', function (_evt) {\n",
       "        fig.handle_close(fig, {});\n",
       "    });\n",
       "    button.addEventListener(\n",
       "        'mouseover',\n",
       "        on_mouseover_closure('Stop Interaction')\n",
       "    );\n",
       "    buttongrp.appendChild(button);\n",
       "    var titlebar = this.root.querySelector('.ui-dialog-titlebar');\n",
       "    titlebar.insertBefore(buttongrp, titlebar.firstChild);\n",
       "};\n",
       "\n",
       "mpl.figure.prototype._remove_fig_handler = function (event) {\n",
       "    var fig = event.data.fig;\n",
       "    fig.close_ws(fig, {});\n",
       "};\n",
       "\n",
       "mpl.figure.prototype._root_extra_style = function (el) {\n",
       "    el.style.boxSizing = 'content-box'; // override notebook setting of border-box.\n",
       "};\n",
       "\n",
       "mpl.figure.prototype._canvas_extra_style = function (el) {\n",
       "    // this is important to make the div 'focusable\n",
       "    el.setAttribute('tabindex', 0);\n",
       "    // reach out to IPython and tell the keyboard manager to turn it's self\n",
       "    // off when our div gets focus\n",
       "\n",
       "    // location in version 3\n",
       "    if (IPython.notebook.keyboard_manager) {\n",
       "        IPython.notebook.keyboard_manager.register_events(el);\n",
       "    } else {\n",
       "        // location in version 2\n",
       "        IPython.keyboard_manager.register_events(el);\n",
       "    }\n",
       "};\n",
       "\n",
       "mpl.figure.prototype._key_event_extra = function (event, _name) {\n",
       "    var manager = IPython.notebook.keyboard_manager;\n",
       "    if (!manager) {\n",
       "        manager = IPython.keyboard_manager;\n",
       "    }\n",
       "\n",
       "    // Check for shift+enter\n",
       "    if (event.shiftKey && event.which === 13) {\n",
       "        this.canvas_div.blur();\n",
       "        // select the cell after this one\n",
       "        var index = IPython.notebook.find_cell_index(this.cell_info[0]);\n",
       "        IPython.notebook.select(index + 1);\n",
       "    }\n",
       "};\n",
       "\n",
       "mpl.figure.prototype.handle_save = function (fig, _msg) {\n",
       "    fig.ondownload(fig, null);\n",
       "};\n",
       "\n",
       "mpl.find_output_cell = function (html_output) {\n",
       "    // Return the cell and output element which can be found *uniquely* in the notebook.\n",
       "    // Note - this is a bit hacky, but it is done because the \"notebook_saving.Notebook\"\n",
       "    // IPython event is triggered only after the cells have been serialised, which for\n",
       "    // our purposes (turning an active figure into a static one), is too late.\n",
       "    var cells = IPython.notebook.get_cells();\n",
       "    var ncells = cells.length;\n",
       "    for (var i = 0; i < ncells; i++) {\n",
       "        var cell = cells[i];\n",
       "        if (cell.cell_type === 'code') {\n",
       "            for (var j = 0; j < cell.output_area.outputs.length; j++) {\n",
       "                var data = cell.output_area.outputs[j];\n",
       "                if (data.data) {\n",
       "                    // IPython >= 3 moved mimebundle to data attribute of output\n",
       "                    data = data.data;\n",
       "                }\n",
       "                if (data['text/html'] === html_output) {\n",
       "                    return [cell, data, j];\n",
       "                }\n",
       "            }\n",
       "        }\n",
       "    }\n",
       "};\n",
       "\n",
       "// Register the function which deals with the matplotlib target/channel.\n",
       "// The kernel may be null if the page has been refreshed.\n",
       "if (IPython.notebook.kernel !== null) {\n",
       "    IPython.notebook.kernel.comm_manager.register_target(\n",
       "        'matplotlib',\n",
       "        mpl.mpl_figure_comm\n",
       "    );\n",
       "}\n"
      ],
      "text/plain": [
       "<IPython.core.display.Javascript object>"
      ]
     },
     "metadata": {},
     "output_type": "display_data"
    },
    {
     "data": {
      "text/html": [
       "<img src=\"data:image/png;base64,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\" width=\"640\">"
      ],
      "text/plain": [
       "<IPython.core.display.HTML object>"
      ]
     },
     "metadata": {},
     "output_type": "display_data"
    },
    {
     "data": {
      "text/plain": [
       "<matplotlib.collections.PathCollection at 0x17cf78578b0>"
      ]
     },
     "execution_count": 5,
     "metadata": {},
     "output_type": "execute_result"
    }
   ],
   "source": [
    "%matplotlib notebook\n",
    "plt.scatter(df.year , df[\"per capita income (US$)\"] , c=\"r\" , s=20)"
   ]
  },
  {
   "cell_type": "markdown",
   "metadata": {},
   "source": [
    "#### Assigning our Feature and Target Variables"
   ]
  },
  {
   "cell_type": "code",
   "execution_count": 9,
   "metadata": {
    "ExecuteTime": {
     "end_time": "2022-02-12T17:36:56.758826Z",
     "start_time": "2022-02-12T17:36:56.749831Z"
    }
   },
   "outputs": [],
   "source": [
    "x=df.drop(\"per capita income (US$)\", axis=1)\n",
    "y=df[\"per capita income (US$)\"]"
   ]
  },
  {
   "cell_type": "markdown",
   "metadata": {},
   "source": [
    "#### Bulding and training the Linear Regression Model"
   ]
  },
  {
   "cell_type": "code",
   "execution_count": 10,
   "metadata": {
    "ExecuteTime": {
     "end_time": "2022-02-12T17:36:57.196458Z",
     "start_time": "2022-02-12T17:36:57.187462Z"
    }
   },
   "outputs": [
    {
     "data": {
      "text/plain": [
       "LinearRegression()"
      ]
     },
     "execution_count": 10,
     "metadata": {},
     "output_type": "execute_result"
    }
   ],
   "source": [
    "model=LinearRegression()\n",
    "model.fit(x,y)"
   ]
  },
  {
   "cell_type": "markdown",
   "metadata": {},
   "source": [
    "#### training data score"
   ]
  },
  {
   "cell_type": "code",
   "execution_count": 11,
   "metadata": {
    "ExecuteTime": {
     "end_time": "2022-02-12T17:36:57.648516Z",
     "start_time": "2022-02-12T17:36:57.640506Z"
    }
   },
   "outputs": [
    {
     "data": {
      "text/plain": [
       "0.890916917957032"
      ]
     },
     "execution_count": 11,
     "metadata": {},
     "output_type": "execute_result"
    }
   ],
   "source": [
    "model.score(x,y)"
   ]
  },
  {
   "cell_type": "markdown",
   "metadata": {},
   "source": [
    "#### Visualize the best Linear Regression line which fits our data points"
   ]
  },
  {
   "cell_type": "code",
   "execution_count": 12,
   "metadata": {
    "ExecuteTime": {
     "end_time": "2022-02-12T17:36:58.066621Z",
     "start_time": "2022-02-12T17:36:58.054629Z"
    }
   },
   "outputs": [],
   "source": [
    "y_pridect=model.predict(x)\n",
    "plt.scatter(df.year ,df[\"per capita income (US$)\"], c=\"r\" ,s=20)\n",
    "plt.plot(x, y_pridect , \"b\")\n",
    "plt.show()"
   ]
  },
  {
   "cell_type": "markdown",
   "metadata": {},
   "source": [
    "#### Predict the per capita income fo canadian citizens in year 2020"
   ]
  },
  {
   "cell_type": "code",
   "execution_count": 13,
   "metadata": {
    "ExecuteTime": {
     "end_time": "2022-02-12T17:36:58.807725Z",
     "start_time": "2022-02-12T17:36:58.799731Z"
    }
   },
   "outputs": [
    {
     "data": {
      "text/plain": [
       "array([41288.69409442])"
      ]
     },
     "execution_count": 13,
     "metadata": {},
     "output_type": "execute_result"
    }
   ],
   "source": [
    "model.predict([[2020]])"
   ]
  },
  {
   "cell_type": "markdown",
   "metadata": {},
   "source": [
    "#### let's assign our theta_0 and theta_1 to define our hypothesis Function"
   ]
  },
  {
   "cell_type": "code",
   "execution_count": 14,
   "metadata": {
    "ExecuteTime": {
     "end_time": "2022-02-12T17:36:59.259216Z",
     "start_time": "2022-02-12T17:36:59.249221Z"
    }
   },
   "outputs": [
    {
     "name": "stdout",
     "output_type": "stream",
     "text": [
      "theta_0 = -1632210.7578554575\n",
      "theta_1 = [828.46507522]\n"
     ]
    }
   ],
   "source": [
    "theta_0 = model.intercept_\n",
    "theta_1 = model.coef_\n",
    "print(f\"theta_0 = {theta_0}\\ntheta_1 = {theta_1}\")"
   ]
  },
  {
   "cell_type": "markdown",
   "metadata": {},
   "source": [
    "#### define the hypothesis Function"
   ]
  },
  {
   "cell_type": "code",
   "execution_count": 15,
   "metadata": {
    "ExecuteTime": {
     "end_time": "2022-02-12T17:36:59.703120Z",
     "start_time": "2022-02-12T17:36:59.699137Z"
    }
   },
   "outputs": [],
   "source": [
    "def hypothesis(x):\n",
    "    return(theta_0 +theta_1 * x)"
   ]
  },
  {
   "cell_type": "markdown",
   "metadata": {},
   "source": [
    "#### testing the hypothesis Function"
   ]
  },
  {
   "cell_type": "code",
   "execution_count": 16,
   "metadata": {
    "ExecuteTime": {
     "end_time": "2022-02-12T17:37:00.378115Z",
     "start_time": "2022-02-12T17:37:00.371118Z"
    }
   },
   "outputs": [
    {
     "data": {
      "text/plain": [
       "array([41288.69409442])"
      ]
     },
     "execution_count": 16,
     "metadata": {},
     "output_type": "execute_result"
    }
   ],
   "source": [
    "hypothesis(2020)"
   ]
  },
  {
   "cell_type": "markdown",
   "metadata": {},
   "source": [
    "#### save the model"
   ]
  },
  {
   "cell_type": "code",
   "execution_count": 17,
   "metadata": {
    "ExecuteTime": {
     "end_time": "2022-02-12T17:37:01.076399Z",
     "start_time": "2022-02-12T17:37:01.063406Z"
    }
   },
   "outputs": [
    {
     "data": {
      "text/plain": [
       "['pridect']"
      ]
     },
     "execution_count": 17,
     "metadata": {},
     "output_type": "execute_result"
    }
   ],
   "source": [
    "joblib.dump(model , \"pridect\")"
   ]
  },
  {
   "cell_type": "markdown",
   "metadata": {},
   "source": [
    "#### Load the model"
   ]
  },
  {
   "cell_type": "code",
   "execution_count": 18,
   "metadata": {
    "ExecuteTime": {
     "end_time": "2022-02-12T17:37:01.551866Z",
     "start_time": "2022-02-12T17:37:01.542870Z"
    }
   },
   "outputs": [
    {
     "data": {
      "text/plain": [
       "LinearRegression()"
      ]
     },
     "execution_count": 18,
     "metadata": {},
     "output_type": "execute_result"
    }
   ],
   "source": [
    "joblib.load(\"pridect\")"
   ]
  },
  {
   "cell_type": "markdown",
   "metadata": {},
   "source": [
    "#### Using the model after Loading it"
   ]
  },
  {
   "cell_type": "code",
   "execution_count": 19,
   "metadata": {
    "ExecuteTime": {
     "end_time": "2022-02-12T17:37:01.958485Z",
     "start_time": "2022-02-12T17:37:01.951488Z"
    }
   },
   "outputs": [
    {
     "data": {
      "text/plain": [
       "array([41288.69409442])"
      ]
     },
     "execution_count": 19,
     "metadata": {},
     "output_type": "execute_result"
    }
   ],
   "source": [
    "model.predict([[2020]])"
   ]
  }
 ],
 "metadata": {
  "kernelspec": {
   "display_name": "Python 3",
   "language": "python",
   "name": "python3"
  },
  "language_info": {
   "codemirror_mode": {
    "name": "ipython",
    "version": 3
   },
   "file_extension": ".py",
   "mimetype": "text/x-python",
   "name": "python",
   "nbconvert_exporter": "python",
   "pygments_lexer": "ipython3",
   "version": "3.8.5"
  },
  "toc": {
   "base_numbering": 1,
   "nav_menu": {},
   "number_sections": true,
   "sideBar": true,
   "skip_h1_title": false,
   "title_cell": "Table of Contents",
   "title_sidebar": "Contents",
   "toc_cell": false,
   "toc_position": {},
   "toc_section_display": true,
   "toc_window_display": false
  }
 },
 "nbformat": 4,
 "nbformat_minor": 5
}
